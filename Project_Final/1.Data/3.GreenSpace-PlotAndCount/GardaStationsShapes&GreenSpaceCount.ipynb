{
 "cells": [
  {
   "cell_type": "markdown",
   "metadata": {},
   "source": [
    "<h1>Data Gathering - Garda division and Green space Count </h1>\n",
    "\n",
    "In this notebook , we get a count of the number of public pitches and green spaces in each garda subdistrict within Dublin.\n",
    "\n",
    "- Although we know that our target area of The Liberties, Dublin 8 has insufficient green space we did not have an actually count of public green space or public pitches available in that area\n",
    "- The availability of public green spaces and pitches is available from some county and city councils - this is useful for use but as we were dealing with smaller areas - Garda Subdivisions - we needed to break the county/city council count of green space availability down into a count for these smaller areas\n",
    "- Furthermore, not all city/county councils provide the availability of green space in a format that we can readily use\n",
    "- the following data was available from each of the county/city councils listed:\n",
    "    - Fingal County Council - csv of public pitches\n",
    "    - Dublin City Council - a map with markers of public pitches and parks\n",
    "         - the positions of the markers were obtained from the network panal and saved to json files\n",
    "    - Dun Laoghaire County Council -  csv's - public parks and pitches\n",
    "    \n",
    "- Galway and Roscommon green counts were also avaailable and taken as additional data, incase it was required at a later stage in the analysis\n",
    "    - Galway City Council - csv's - public pitches and green spaces\n",
    "    - Roscommon County Council - csv of public parks\n",
    "       "
   ]
  },
  {
   "cell_type": "code",
   "execution_count": 1,
   "metadata": {
    "collapsed": false
   },
   "outputs": [],
   "source": [
    "import pandas as pd\n",
    "import numpy as np\n",
    "import matplotlib.pyplot as plt\n",
    "from shapely.geometry import Point, Polygon, MultiPoint, MultiPolygon\n",
    "import geopandas as Gpd\n",
    "from pyproj import Proj, transform\n",
    "import json\n",
    "%matplotlib inline\n",
    "\n",
    "# \"Census2011_Garda_SubDistricts_Nov2013.shp\" is a shape file that contains the polygon coordinates of each garda subdivision in Ireland\n",
    "# NOTE: This file was too large to submit on moodle \n",
    "# Link to files on google drive: https://drive.google.com/folderview?id=0ByQa-XM7CHA7d2d1Tk15MURhZjg&usp=sharing\n",
    "# or it can be downloaded from: http://census.cso.ie/censusasp/saps/boundaries/ED_SA%20Disclaimer1.htm (Garda Sub Districts)\n",
    "Census2011_Garda_SubDistricts_Nov2013.zip\n",
    "shape = Gpd.GeoDataFrame.from_file(\"Census2011_Garda_SubDistricts_Nov2013.shp\")"
   ]
  },
  {
   "cell_type": "code",
   "execution_count": 2,
   "metadata": {
    "collapsed": false
   },
   "outputs": [
    {
     "name": "stdout",
     "output_type": "stream",
     "text": [
      "         GardaStation        Area\n",
      "0           Bridewell    3.005021\n",
      "1               Lucan   27.031565\n",
      "2          Balbriggan   60.000023\n",
      "3       Pearse Street    3.182021\n",
      "4           Irishtown   13.370166\n",
      "5   Fitzgibbon Street    1.874715\n",
      "6             Coolock   17.676889\n",
      "7      Blanchardstown   45.287530\n",
      "8            Skerries   30.605302\n",
      "9                Lusk   54.564212\n",
      "10         Cabinteely   18.411407\n",
      "11           Shankill   20.719053\n",
      "12           Clontarf   18.083254\n",
      "13       Store Street    6.848610\n",
      "14         Donnybrook    8.219549\n",
      "15         Garristown   83.207734\n",
      "16           Ballymun    7.025158\n",
      "17            Airport    6.237030\n",
      "18             Santry   15.133922\n",
      "19      Dun Laoghaire   11.239514\n",
      "20              Cabra   11.359962\n",
      "21         Kilmainham    4.865736\n",
      "22          Blackrock    8.965902\n",
      "23      Sundrive Road    4.851760\n",
      "24             Swords  105.245527\n",
      "25        Ballyfermot    8.568579\n",
      "26       Kevin Street    2.774478\n",
      "27              Howth   14.487512\n",
      "28           Mountjoy    4.049969\n",
      "29           Malahide   22.252301\n",
      "30            Finglas   38.189892\n",
      "31             Raheny   13.654908\n"
     ]
    }
   ],
   "source": [
    "# Select all Dublin (DMR - Dublin Metropolitan Region) garda subdistricts from the geopandas dataframe containing all shapes for garda subdivision for all of Ireland \n",
    "dublin_area = shape.loc[shape['DIVISION'].str.contains(\"DMR\")].reset_index(drop=True)\n",
    "\n",
    "# find area of each division in km^2 (area in m^2/1000000)\n",
    "dublin_area = {dublin_area['SUB_DIST'][i]:(dublin_area['geometry'][i].area/1000000) for i in range(0,len(dublin_area))}\n",
    "dub_area = pd.DataFrame.from_dict(dublin_area,orient='index').reset_index()\n",
    "dub_area.columns = ['GardaStation','Area']\n",
    "\n",
    "# Drop the Dublin Subdivisions that we don't have sufficient green space data for\n",
    "dub_area = dub_area[dub_area.GardaStation != 'Crumlin']\n",
    "dub_area = dub_area[dub_area.GardaStation != 'Rathmines']\n",
    "dub_area = dub_area[dub_area.GardaStation != 'Rathcoole']\n",
    "dub_area = dub_area[dub_area.GardaStation != 'Terenure']\n",
    "dub_area = dub_area[dub_area.GardaStation != 'Dundrum']\n",
    "dub_area = dub_area[dub_area.GardaStation != 'Rathfarnham']\n",
    "dub_area = dub_area[dub_area.GardaStation != 'Clondalkin']\n",
    "dub_area = dub_area[dub_area.GardaStation != 'Ronanstown']\n",
    "dub_area = dub_area[dub_area.GardaStation != 'Tallaght']\n",
    "dub_area = dub_area.reset_index(drop=True)\n",
    "print(dub_area)"
   ]
  },
  {
   "cell_type": "code",
   "execution_count": 3,
   "metadata": {
    "collapsed": true
   },
   "outputs": [],
   "source": [
    "# convert the coordinates of the polygon shapes to geographical coordinates (latitude, longitude) so that the shapes can later be mapped onto an actual map \n",
    "shape = shape.to_crs(epsg=4326) "
   ]
  },
  {
   "cell_type": "code",
   "execution_count": 4,
   "metadata": {
    "collapsed": false
   },
   "outputs": [],
   "source": [
    "# Extract shape information for each county of interest\n",
    "shape_roscommon = shape.loc[shape['DIVISION'].str.contains(\"Roscommon\")].reset_index(drop=True)\n",
    "shape_galway = shape.loc[shape['DIVISION'].str.contains(\"Galway\")].reset_index(drop=True)\n",
    "shape_dublin = shape.loc[shape['DIVISION'].str.contains(\"DMR\")].reset_index(drop=True)"
   ]
  },
  {
   "cell_type": "markdown",
   "metadata": {},
   "source": [
    "<b>Data Sources </b>\n",
    "\n",
    "The locations of public pitches and parks were obtained from a map detailing facilities in Dublin City Council. It can be found here: http://www.dublincity.ie/LocationPublisher/default.aspx?themename=Facilities&mapname=Sport.\n",
    "Coordinates were obtained by going into the network panel and finding the map layer for the coordinates for playing pitches and then for parks and gardens. The coordinates were copied and saved in a json file which could then be opened here and the coordinates plotted on a map."
   ]
  },
  {
   "cell_type": "code",
   "execution_count": 5,
   "metadata": {
    "collapsed": false
   },
   "outputs": [],
   "source": [
    "# load file with coordinates for playing pitches within Dublin City Council\n",
    "with open('PlayingPitches.json') as data_file:    \n",
    "    data_pitches = json.load(data_file)\n",
    "\n",
    "# Coordinates are in the Spherical Mercator projection coordinate system(epsg:3857) so need to be transformed into geographical \n",
    "# coordinates (epsg:4326) in order to be able to put them onto the map here\n",
    "inProj = Proj(init='epsg:3857')\n",
    "outProj = Proj(init='epsg:4326')\n",
    "LL_pitches = [0] * len(data_pitches['features'])\n",
    "\n",
    "for i in range(0,len(data_pitches['features'])):\n",
    "    latitude = data_pitches['features'][i]['geometry']['coordinates'][1]\n",
    "    longitude = data_pitches['features'][i]['geometry']['coordinates'][0]\n",
    "    lng, lat = transform(inProj, outProj, longitude, latitude)\n",
    "    LL_pitches[i] = [lat,lng]\n",
    " \n",
    "# lists containing longitudes and lattitudes of public pitches in Dublin\n",
    "lons_pitches = [LL_pitches[i][0] for i in range(0, len(LL_pitches))]\n",
    "lats_pitches = [LL_pitches[i][1] for i in range(0, len(LL_pitches))]"
   ]
  },
  {
   "cell_type": "code",
   "execution_count": 6,
   "metadata": {
    "collapsed": false
   },
   "outputs": [],
   "source": [
    "# the same process was follwed for the Parks as for the pitches within Dublin City Council\n",
    "with open('ParksandOpenSpaces.json') as data_file:    \n",
    "    data_parks = json.load(data_file)\n",
    "\n",
    "inProj = Proj(init='epsg:3857')\n",
    "outProj = Proj(init='epsg:4326')\n",
    "LL_parks = [0] * len(data_parks['features'])\n",
    "\n",
    "for i in range(0,len(data_parks['features'])):\n",
    "    latitude = data_parks['features'][i]['geometry']['coordinates'][1]\n",
    "    longitude = data_parks['features'][i]['geometry']['coordinates'][0]\n",
    "    lng, lat = transform(inProj, outProj, longitude, latitude)\n",
    "    LL_parks[i] = [lat,lng]\n",
    "\n",
    "# lists containing longitudes and lattitudes of public parks in Dublin\n",
    "lons_parks = [LL_parks[i][0] for i in range(0, len(LL_parks))]\n",
    "lats_parks = [LL_parks[i][1] for i in range(0, len(LL_parks))]"
   ]
  },
  {
   "cell_type": "code",
   "execution_count": 7,
   "metadata": {
    "collapsed": false
   },
   "outputs": [],
   "source": [
    "# Pitches in Dun Laoghaire County Council were obtained from the data set on dublinked.ie\n",
    "with open('dlrpitches.geojson') as data_file:    \n",
    "    data_dlr = json.load(data_file)\n",
    "\n",
    "# lists containing longitudes and lattitudes of public pitches in Dun Laoighaire\n",
    "lat_dl = [(data_dlr['features'][i]['geometry']['coordinates'][0]) for i in range(0, len(data_dlr['features']))]\n",
    "lon_dl = [(data_dlr['features'][i]['geometry']['coordinates'][1]) for i in range(0, len(data_dlr['features']))]"
   ]
  },
  {
   "cell_type": "code",
   "execution_count": 8,
   "metadata": {
    "collapsed": false
   },
   "outputs": [],
   "source": [
    "# Public Pitches in Fingal County Council\n",
    "fcc_pitches = pd.read_csv('FCCPlayingPitches.csv')\n",
    "\n",
    "# lists containing longitudes and latitudes of public pitches in Fingal County Council County\n",
    "lat_fcc = [fcc_pitches['LAT'][i] for i in range(0,len(fcc_pitches['LAT']))]\n",
    "lon_fcc = [fcc_pitches['LONG'][i] for i in range(0,len(fcc_pitches['LONG']))]"
   ]
  },
  {
   "cell_type": "code",
   "execution_count": 9,
   "metadata": {
    "collapsed": false
   },
   "outputs": [],
   "source": [
    "# Public parks in Galway City\n",
    "gal_pitches = pd.read_csv('Parks_in_Galway_City.csv')\n",
    "\n",
    "# lists containing longitudes and latitudes of public parks in Galway city\n",
    "lat_gal = [gal_pitches['Lat'][i] for i in range(0,len(gal_pitches['Lat']))]\n",
    "lon_gal = [gal_pitches['Long'][i] for i in range(0,len(gal_pitches['Long']))]"
   ]
  },
  {
   "cell_type": "code",
   "execution_count": 10,
   "metadata": {
    "collapsed": false
   },
   "outputs": [],
   "source": [
    "# Public parks in Roscommon\n",
    "rcc_parks = pd.read_csv('RoscommonCommunityParks.csv')\n",
    "\n",
    "# lists containing longitudes and latitudes of public parks in Roscommon\n",
    "lon_rcc_park = [rcc_parks['\\ufeffX'][i] for i in range(0,len(rcc_parks['WGS84Latitude']))]\n",
    "lat_rcc_park = [rcc_parks['Y'][i] for i in range(0,len(rcc_parks['WGS84Latitude']))]"
   ]
  },
  {
   "cell_type": "code",
   "execution_count": 11,
   "metadata": {
    "collapsed": false
   },
   "outputs": [],
   "source": [
    "# Public parks in Roscommon\n",
    "rcc_pitch = pd.read_csv('RoscommonPublicParks.csv')\n",
    "\n",
    "# lists containing longitudes and latitudes of public parks in Roscommon\n",
    "lon_rcc_pubpark = [rcc_pitch['\\ufeffX'][i] for i in range(0,len(rcc_pitch['WGS84Latitude']))]\n",
    "lat_rcc_pubpark = [rcc_pitch['Y'][i] for i in range(0,len(rcc_pitch['WGS84Latitude']))]"
   ]
  },
  {
   "cell_type": "markdown",
   "metadata": {},
   "source": [
    "<b> Mapping Shape Files and park and pitch coordinates onto actual map </b>\n",
    "\n",
    "The mplleaflet package was is used to map the shae files of the sub districts in dublin and all the coordinates of pitches and parks\n",
    "This allows us to do a visual count of the pithces and parks within an area\n",
    "\n",
    "Note: The html page of the following maps have been saved and submitted with the project - incase the mpleaflet package is not installed\n"
   ]
  },
  {
   "cell_type": "code",
   "execution_count": 12,
   "metadata": {
    "collapsed": false
   },
   "outputs": [],
   "source": [
    "import mplleaflet\n",
    "\n",
    "# Dublin Map\n",
    "ax = shape_dublin.plot()\n",
    "ax.scatter(lats_pitches, lons_pitches, color=\"red\")\n",
    "ax.scatter(lats_parks, lons_parks, color=\"blue\")\n",
    "ax.scatter(lat_dl, lon_dl, color=\"green\")\n",
    "ax.scatter(lon_fcc, lat_fcc, color=\"cyan\")\n",
    "# display map here\n",
    "#mplleaflet.display(fig=ax.figure)\n",
    "# open map in a new window\n",
    "mplleaflet.show(fig=ax.figure)"
   ]
  },
  {
   "cell_type": "code",
   "execution_count": 13,
   "metadata": {
    "collapsed": false
   },
   "outputs": [],
   "source": [
    "# Galway Map\n",
    "ax = shape_galway.plot()\n",
    "ax.scatter(lon_gal, lat_gal, color=\"black\")\n",
    "mplleaflet.show(fig=ax.figure)"
   ]
  },
  {
   "cell_type": "code",
   "execution_count": 14,
   "metadata": {
    "collapsed": false
   },
   "outputs": [],
   "source": [
    "# Roscommon Map\n",
    "ax = shape_roscommon.plot()\n",
    "ax.scatter(lon_rcc_park, lat_rcc_park, color=\"black\")\n",
    "ax.scatter(lon_rcc_pubpark, lat_rcc_pubpark, color=\"red\")\n",
    "mplleaflet.show(fig=ax.figure)"
   ]
  },
  {
   "cell_type": "markdown",
   "metadata": {},
   "source": [
    "<b>Pitch and Park Count</b>\n",
    "\n",
    "Counting the pitches and parks in a sub division is to check if a point is contained in a polygon. This is done below for each of the files containing coordinates of pitches and parks. This process is independent of the maps produced but in some cases the map was used to do a visual count were there was problems with checking the points in a polyon (which was the case for Galway City).\n",
    "The maps also gave us a way to confirm the counts we obtained."
   ]
  },
  {
   "cell_type": "code",
   "execution_count": 15,
   "metadata": {
    "collapsed": false
   },
   "outputs": [
    {
     "name": "stdout",
     "output_type": "stream",
     "text": [
      "    Unnamed: 0                                         MAINTENANC DEPARTMENT\n",
      "0            1  Marlfield: Open space at  Marlfield (gable of ...      Parks\n",
      "1           38  Cabinteely Way (Gable 9 and rear 10 Monaloe Pa...      Parks\n",
      "2          290                                  Cabinteely Avenue      Parks\n",
      "3          291                                Cabinteely Crescent      Parks\n",
      "4          483  Marlfield: Open space at  Marlfield (gable of ...      Parks\n",
      "5          520  Cabinteely Way (Gable 9 and rear 10 Monaloe Pa...      Parks\n",
      "6          772                                  Cabinteely Avenue      Parks\n",
      "7          773                                Cabinteely Crescent      Parks\n",
      "8          314                          Moran Park, Dun Laoghaire      Parks\n",
      "9          315                       Beach Gardens, Dun Laoghaire      Parks\n",
      "10         796                          Moran Park, Dun Laoghaire      Parks\n",
      "11         797                       Beach Gardens, Dun Laoghaire      Parks\n"
     ]
    }
   ],
   "source": [
    "count = [0] * len(shape_dublin['geometry'])\n",
    "# count of pitches in each subdivision in Dublin\n",
    "for i in range(0, len(shape_dublin['geometry'])):\n",
    "    poly = Polygon(shape_dublin['geometry'][i])\n",
    "    # Dun Laoghaire pitches\n",
    "    for j in range(0,len(lat_dl)):\n",
    "        p = Point(lat_dl[j],lon_dl[j])\n",
    "        if (poly.contains(p)):\n",
    "            count[i] += 1\n",
    "    # Dublin parks\n",
    "    for j in range(0,len(LL_parks)):\n",
    "        p = Point(LL_parks[j][1],LL_parks[j][0])\n",
    "        if (poly.contains(p)):\n",
    "            count[i] += 1\n",
    "    # Dublin Pitches\n",
    "    for j in range(0,len(LL_pitches)):\n",
    "        p = Point(LL_pitches[j][1],LL_pitches[j][0])\n",
    "        if (poly.contains(p)):\n",
    "            count[i] += 1\n",
    "    # Fingal Pitches\n",
    "    for j in range(0,len(LL_pitches)):\n",
    "        p = Point(lon_fcc[j],lat_fcc[j])\n",
    "        if (poly.contains(p)):\n",
    "            count[i] += 1\n",
    "    \n",
    "# make a dictionary of the number of pitches by sub division\n",
    "dublin_dict = {shape_dublin['SUB_DIST'][i]:count[i] for i in range(0, len(count))}\n",
    "\n",
    "# This file cotains the parks in dun laoghaire - they do not have the positions of the parks included so we just counted from the file ourselves\n",
    "dl_park_file = pd.read_csv(\"dlrtotalfinal.csv\")\n",
    "print(dl_park_file)\n",
    "# counts from dlr_park file\n",
    "dublin_dict['Cabinteely'] += 8\n",
    "dublin_dict['Dun Laoghaire'] += 2\n",
    "\n",
    "# transform the dictionary into a dataframe\n",
    "dublin = pd.DataFrame.from_dict(dublin_dict,orient='index').reset_index()\n",
    "dublin.columns = ['GardaStation','Green']\n",
    "\n",
    "# Drop the subdivisions in Dublin not being used\n",
    "dublin = dublin[dublin.GardaStation != 'Crumlin']\n",
    "dublin = dublin[dublin.GardaStation != 'Rathmines']\n",
    "dublin = dublin[dublin.GardaStation != 'Rathcoole']\n",
    "dublin = dublin[dublin.GardaStation != 'Terenure']\n",
    "dublin = dublin[dublin.GardaStation != 'Dundrum']\n",
    "dublin = dublin[dublin.GardaStation != 'Rathfarnham']\n",
    "dublin = dublin[dublin.GardaStation != 'Clondalkin']\n",
    "dublin = dublin[dublin.GardaStation != 'Ronanstown']\n",
    "dublin = dublin[dublin.GardaStation != 'Tallaght']\n",
    "dublin = dublin.reset_index(drop=True)"
   ]
  },
  {
   "cell_type": "code",
   "execution_count": 16,
   "metadata": {
    "collapsed": false
   },
   "outputs": [
    {
     "name": "stdout",
     "output_type": "stream",
     "text": [
      "           0\n",
      "Salthill   9\n",
      "Galway    19\n"
     ]
    }
   ],
   "source": [
    "# count = [0] * len(shape_galway['geometry'])\n",
    "# # count of pitches in each subdivision in Dun Laoghaire\n",
    "# for i in range(0, len(shape_galway['geometry'])):\n",
    "#     poly = Polygon(shape_galway['geometry'][i])\n",
    "#     for j in range(0,len(lat_gal)):\n",
    "#         p = Point(lon_gal[j],lat_gal[j])\n",
    "#         if (poly.contains(p)):\n",
    "#             count[i] += 1\n",
    "            \n",
    "# make a dictionary of the number of pitches by sub division\n",
    "# galway_p = {shape_galway['SUB_DIST'][i]:count[i] for i in range(0, len(count))}\n",
    "\n",
    "# galway = pd.DataFrame.from_dict(galway_p,orient='index')\n",
    "# galway = galway.loc['Salthill'].append(dl_pitch.loc['Galway'])\n",
    "\n",
    "# This count was obtained by looking at the map produced with Galway city garda sub division shapes and pitches\n",
    "galway_dict = {'Galway': 19 , 'Salthill': 9}\n",
    "galway = pd.DataFrame.from_dict(galway_dict,orient='index')\n",
    "print(galway)"
   ]
  },
  {
   "cell_type": "code",
   "execution_count": 17,
   "metadata": {
    "collapsed": false
   },
   "outputs": [
    {
     "name": "stdout",
     "output_type": "stream",
     "text": [
      "                 0\n",
      "Athleague        1\n",
      "Roscommon        3\n",
      "Castlerea        1\n",
      "Keadue           2\n",
      "Boyle            3\n",
      "Ballaghaderreen  1\n"
     ]
    }
   ],
   "source": [
    "# The same process was followed here as for getting a count for Dublin pitches and parks\n",
    "count = [0] * len(shape_roscommon['geometry'])\n",
    "\n",
    "# count of pitches in each subdivision in Roscommon\n",
    "for i in range(0, len(shape_roscommon['geometry'])):\n",
    "    poly = Polygon(shape_roscommon['geometry'][i])\n",
    "    for j in range(0,len(lat_rcc_park)):\n",
    "        p = Point(lon_rcc_park[j],lat_rcc_park[j])\n",
    "        if (poly.contains(p)):\n",
    "            count[i] += 1\n",
    "    for k in range(0,len(lat_rcc_pubpark)):\n",
    "        p = Point(lon_rcc_pubpark[k],lat_rcc_pubpark[k])\n",
    "        if (poly.contains(p)):\n",
    "            count[i] += 1\n",
    "            \n",
    "# make a dictionary of the number of pitches by sub division\n",
    "roscommon_dict = {shape_roscommon['SUB_DIST'][i]:count[i] for i in range(0, len(count))}\n",
    "\n",
    "# Get rid of subdivisions in Roscommon that we dont have a grren space count for (value == 0)\n",
    "roscommon_dict = {k:v for k,v in roscommon_dict.items() if v != 0}\n",
    "roscommon = pd.DataFrame.from_dict(roscommon_dict,orient='index')\n",
    "print(roscommon)"
   ]
  },
  {
   "cell_type": "code",
   "execution_count": 18,
   "metadata": {
    "collapsed": false
   },
   "outputs": [
    {
     "name": "stderr",
     "output_type": "stream",
     "text": [
      "/Users/JoanMcCarthy/anaconda/envs/comp47350/lib/python3.5/site-packages/pandas/indexes/api.py:71: RuntimeWarning: unorderable types: str() > int(), sort order is undefined for incomparable objects\n",
      "  result = result.union(other)\n"
     ]
    }
   ],
   "source": [
    "# concatenate dataframes countaining green space count for subdivisions of each county\n",
    "frames = [galway, dublin, roscommon]\n",
    "result = pd.concat(frames)\n",
    "result.to_csv(\"GreenSpaceCount.csv\")"
   ]
  },
  {
   "cell_type": "code",
   "execution_count": 19,
   "metadata": {
    "collapsed": false
   },
   "outputs": [],
   "source": [
    "# merge the dataframes containing the area of each subdivision in Dublin (to be used later to find the population density) \n",
    "# and the green space count for each sub division \n",
    "res = pd.merge(left=dublin, right=dub_area, how='left', left_on='GardaStation', right_on='GardaStation')\n",
    "res.to_csv(\"DublinGreenSpace&Area.csv\")"
   ]
  },
  {
   "cell_type": "code",
   "execution_count": null,
   "metadata": {
    "collapsed": true
   },
   "outputs": [],
   "source": []
  }
 ],
 "metadata": {
  "kernelspec": {
   "display_name": "Python 3",
   "language": "python",
   "name": "python3"
  },
  "language_info": {
   "codemirror_mode": {
    "name": "ipython",
    "version": 3
   },
   "file_extension": ".py",
   "mimetype": "text/x-python",
   "name": "python",
   "nbconvert_exporter": "python",
   "pygments_lexer": "ipython3",
   "version": "3.5.1"
  }
 },
 "nbformat": 4,
 "nbformat_minor": 0
}
