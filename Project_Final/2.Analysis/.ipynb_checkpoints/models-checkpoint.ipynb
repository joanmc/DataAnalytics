{
 "cells": [
  {
   "cell_type": "code",
   "execution_count": 6,
   "metadata": {
    "collapsed": false
   },
   "outputs": [
    {
     "data": {
      "text/html": [
       "<div>\n",
       "<table border=\"1\" class=\"dataframe\">\n",
       "  <thead>\n",
       "    <tr style=\"text-align: right;\">\n",
       "      <th></th>\n",
       "      <th>Garda Station</th>\n",
       "      <th>Theft</th>\n",
       "      <th>Assault &amp; Kidnapping</th>\n",
       "      <th>Fraud &amp; Drugs &amp; Weapons</th>\n",
       "      <th>Environment &amp; Public Order</th>\n",
       "      <th>PopulationTotalMale</th>\n",
       "      <th>PopulationTotalFemale</th>\n",
       "      <th>PopulationTotal</th>\n",
       "      <th>PrincipalStatusAtWork</th>\n",
       "      <th>PrincipalStatusLookingForFirstJob</th>\n",
       "      <th>...</th>\n",
       "      <th>HighEducation</th>\n",
       "      <th>LowerSocialClass</th>\n",
       "      <th>HigherSocialClass</th>\n",
       "      <th>EducationCeasedYoung</th>\n",
       "      <th>ContinuedEducation</th>\n",
       "      <th>StillinEducation</th>\n",
       "      <th>GoodHealth</th>\n",
       "      <th>PoorHealth</th>\n",
       "      <th>TotalCrime</th>\n",
       "      <th>PopulationDensity</th>\n",
       "    </tr>\n",
       "  </thead>\n",
       "  <tbody>\n",
       "    <tr>\n",
       "      <th>0</th>\n",
       "      <td>Balbriggan</td>\n",
       "      <td>193</td>\n",
       "      <td>168</td>\n",
       "      <td>179</td>\n",
       "      <td>470</td>\n",
       "      <td>11746</td>\n",
       "      <td>12296</td>\n",
       "      <td>24042</td>\n",
       "      <td>9191</td>\n",
       "      <td>267</td>\n",
       "      <td>...</td>\n",
       "      <td>2857</td>\n",
       "      <td>3520</td>\n",
       "      <td>11808</td>\n",
       "      <td>3946</td>\n",
       "      <td>7305</td>\n",
       "      <td>1582</td>\n",
       "      <td>21544</td>\n",
       "      <td>281</td>\n",
       "      <td>540</td>\n",
       "      <td>400.699846</td>\n",
       "    </tr>\n",
       "    <tr>\n",
       "      <th>1</th>\n",
       "      <td>Ballyfermot</td>\n",
       "      <td>272</td>\n",
       "      <td>173</td>\n",
       "      <td>349</td>\n",
       "      <td>820</td>\n",
       "      <td>13247</td>\n",
       "      <td>14332</td>\n",
       "      <td>27579</td>\n",
       "      <td>9627</td>\n",
       "      <td>339</td>\n",
       "      <td>...</td>\n",
       "      <td>2445</td>\n",
       "      <td>5774</td>\n",
       "      <td>10421</td>\n",
       "      <td>9478</td>\n",
       "      <td>7067</td>\n",
       "      <td>1247</td>\n",
       "      <td>23211</td>\n",
       "      <td>546</td>\n",
       "      <td>794</td>\n",
       "      <td>3218.620030</td>\n",
       "    </tr>\n",
       "    <tr>\n",
       "      <th>2</th>\n",
       "      <td>Ballymun</td>\n",
       "      <td>189</td>\n",
       "      <td>217</td>\n",
       "      <td>260</td>\n",
       "      <td>752</td>\n",
       "      <td>10408</td>\n",
       "      <td>11267</td>\n",
       "      <td>21675</td>\n",
       "      <td>6870</td>\n",
       "      <td>269</td>\n",
       "      <td>...</td>\n",
       "      <td>1728</td>\n",
       "      <td>3939</td>\n",
       "      <td>7983</td>\n",
       "      <td>5583</td>\n",
       "      <td>5804</td>\n",
       "      <td>1405</td>\n",
       "      <td>18275</td>\n",
       "      <td>426</td>\n",
       "      <td>666</td>\n",
       "      <td>3085.339783</td>\n",
       "    </tr>\n",
       "    <tr>\n",
       "      <th>3</th>\n",
       "      <td>BlackrockCoDublin</td>\n",
       "      <td>243</td>\n",
       "      <td>106</td>\n",
       "      <td>156</td>\n",
       "      <td>354</td>\n",
       "      <td>15003</td>\n",
       "      <td>16975</td>\n",
       "      <td>31978</td>\n",
       "      <td>13827</td>\n",
       "      <td>145</td>\n",
       "      <td>...</td>\n",
       "      <td>11511</td>\n",
       "      <td>1272</td>\n",
       "      <td>24996</td>\n",
       "      <td>2623</td>\n",
       "      <td>15370</td>\n",
       "      <td>1153</td>\n",
       "      <td>29235</td>\n",
       "      <td>284</td>\n",
       "      <td>505</td>\n",
       "      <td>3566.624005</td>\n",
       "    </tr>\n",
       "    <tr>\n",
       "      <th>4</th>\n",
       "      <td>Blanchardstown</td>\n",
       "      <td>790</td>\n",
       "      <td>543</td>\n",
       "      <td>579</td>\n",
       "      <td>2084</td>\n",
       "      <td>48192</td>\n",
       "      <td>49886</td>\n",
       "      <td>98078</td>\n",
       "      <td>42376</td>\n",
       "      <td>1007</td>\n",
       "      <td>...</td>\n",
       "      <td>18095</td>\n",
       "      <td>11573</td>\n",
       "      <td>55093</td>\n",
       "      <td>13173</td>\n",
       "      <td>34990</td>\n",
       "      <td>7495</td>\n",
       "      <td>88883</td>\n",
       "      <td>904</td>\n",
       "      <td>1912</td>\n",
       "      <td>2165.673399</td>\n",
       "    </tr>\n",
       "  </tbody>\n",
       "</table>\n",
       "<p>5 rows × 36 columns</p>\n",
       "</div>"
      ],
      "text/plain": [
       "       Garda Station  Theft  Assault & Kidnapping  Fraud & Drugs & Weapons  \\\n",
       "0         Balbriggan    193                   168                      179   \n",
       "1        Ballyfermot    272                   173                      349   \n",
       "2           Ballymun    189                   217                      260   \n",
       "3  BlackrockCoDublin    243                   106                      156   \n",
       "4     Blanchardstown    790                   543                      579   \n",
       "\n",
       "   Environment & Public Order  PopulationTotalMale  PopulationTotalFemale  \\\n",
       "0                         470                11746                  12296   \n",
       "1                         820                13247                  14332   \n",
       "2                         752                10408                  11267   \n",
       "3                         354                15003                  16975   \n",
       "4                        2084                48192                  49886   \n",
       "\n",
       "   PopulationTotal  PrincipalStatusAtWork  PrincipalStatusLookingForFirstJob  \\\n",
       "0            24042                   9191                                267   \n",
       "1            27579                   9627                                339   \n",
       "2            21675                   6870                                269   \n",
       "3            31978                  13827                                145   \n",
       "4            98078                  42376                               1007   \n",
       "\n",
       "         ...          HighEducation  LowerSocialClass  HigherSocialClass  \\\n",
       "0        ...                   2857              3520              11808   \n",
       "1        ...                   2445              5774              10421   \n",
       "2        ...                   1728              3939               7983   \n",
       "3        ...                  11511              1272              24996   \n",
       "4        ...                  18095             11573              55093   \n",
       "\n",
       "   EducationCeasedYoung  ContinuedEducation  StillinEducation  GoodHealth  \\\n",
       "0                  3946                7305              1582       21544   \n",
       "1                  9478                7067              1247       23211   \n",
       "2                  5583                5804              1405       18275   \n",
       "3                  2623               15370              1153       29235   \n",
       "4                 13173               34990              7495       88883   \n",
       "\n",
       "   PoorHealth  TotalCrime  PopulationDensity  \n",
       "0         281         540         400.699846  \n",
       "1         546         794        3218.620030  \n",
       "2         426         666        3085.339783  \n",
       "3         284         505        3566.624005  \n",
       "4         904        1912        2165.673399  \n",
       "\n",
       "[5 rows x 36 columns]"
      ]
     },
     "execution_count": 6,
     "metadata": {},
     "output_type": "execute_result"
    }
   ],
   "source": [
    "import pandas as pd\n",
    "import matplotlib.pyplot as plt\n",
    "import statsmodels.formula.api as sm\n",
    "%matplotlib inline\n",
    "\n",
    "df = pd.read_csv('CombinedFinalDublin.csv')\n",
    "df = df.drop('Unnamed: 0', 1)\n",
    "df.head()"
   ]
  },
  {
   "cell_type": "code",
   "execution_count": 7,
   "metadata": {
    "collapsed": false
   },
   "outputs": [
    {
     "data": {
      "text/plain": [
       "<matplotlib.axes._subplots.AxesSubplot at 0x112797ac8>"
      ]
     },
     "execution_count": 7,
     "metadata": {},
     "output_type": "execute_result"
    },
    {
     "data": {
      "image/png": "[encoded data removed]",
      "text/plain": [
       "<matplotlib.figure.Figure at 0x112700978>"
      ]
     },
     "metadata": {},
     "output_type": "display_data"
    }
   ],
   "source": [
    "fig, axs = plt.subplots(1, 3, sharey=True)\n",
    "df.plot(kind='scatter', x='Green', y='TotalCrime', label=\"%.3f\" % df[['Green', 'TotalCrime']].corr().as_matrix()[0,1], ax=axs[0], figsize=(15, 8))\n",
    "df.plot(kind='scatter', x='HigherSocialClass', y='TotalCrime', label=\"%.3f\" % df[['HigherSocialClass', 'TotalCrime']].corr().as_matrix()[0,1], ax=axs[1])\n",
    "df.plot(kind='scatter', x='Green', y='HigherSocialClass', label=\"%.3f\" % df[['Green', 'HigherSocialClass']].corr().as_matrix()[0,1], ax=axs[2])"
   ]
  },
  {
   "cell_type": "code",
   "execution_count": 8,
   "metadata": {
    "collapsed": false
   },
   "outputs": [
    {
     "name": "stdout",
     "output_type": "stream",
     "text": [
      "Intercept            416.676298\n",
      "Green                -15.289070\n",
      "HigherSocialClass      0.025371\n",
      "dtype: float64\n"
     ]
    }
   ],
   "source": [
    "lm = sm.ols(formula=\"TotalCrime ~ Green + HigherSocialClass\", data=df).fit()\n",
    "print(lm.params)"
   ]
  },
  {
   "cell_type": "code",
   "execution_count": 9,
   "metadata": {
    "collapsed": false
   },
   "outputs": [
    {
     "name": "stdout",
     "output_type": "stream",
     "text": [
      "                            OLS Regression Results                            \n",
      "==============================================================================\n",
      "Dep. Variable:             TotalCrime   R-squared:                       0.218\n",
      "Model:                            OLS   Adj. R-squared:                  0.165\n",
      "Method:                 Least Squares   F-statistic:                     4.054\n",
      "Date:                Tue, 03 May 2016   Prob (F-statistic):             0.0280\n",
      "Time:                        11:57:53   Log-Likelihood:                -237.18\n",
      "No. Observations:                  32   AIC:                             480.4\n",
      "Df Residuals:                      29   BIC:                             484.8\n",
      "Df Model:                           2                                         \n",
      "Covariance Type:            nonrobust                                         \n",
      "=====================================================================================\n",
      "                        coef    std err          t      P>|t|      [95.0% Conf. Int.]\n",
      "-------------------------------------------------------------------------------------\n",
      "Intercept           416.6763    140.303      2.970      0.006       129.725   703.628\n",
      "Green               -15.2891     10.494     -1.457      0.156       -36.752     6.174\n",
      "HigherSocialClass     0.0254      0.009      2.845      0.008         0.007     0.044\n",
      "==============================================================================\n",
      "Omnibus:                       13.839   Durbin-Watson:                   2.062\n",
      "Prob(Omnibus):                  0.001   Jarque-Bera (JB):               14.871\n",
      "Skew:                           1.251   Prob(JB):                     0.000590\n",
      "Kurtosis:                       5.211   Cond. No.                     3.54e+04\n",
      "==============================================================================\n",
      "\n",
      "Warnings:\n",
      "[1] Standard Errors assume that the covariance matrix of the errors is correctly specified.\n",
      "[2] The condition number is large, 3.54e+04. This might indicate that there are\n",
      "strong multicollinearity or other numerical problems.\n"
     ]
    }
   ],
   "source": [
    "print(lm.summary())"
   ]
  },
  {
   "cell_type": "code",
   "execution_count": 10,
   "metadata": {
    "collapsed": false
   },
   "outputs": [
    {
     "name": "stdout",
     "output_type": "stream",
     "text": [
      "Intercept    10832.464100\n",
      "Green          644.486754\n",
      "dtype: float64\n"
     ]
    }
   ],
   "source": [
    "lm = sm.ols(formula=\"HigherSocialClass ~ Green\", data=df).fit()\n",
    "print(lm.params)\n"
   ]
  },
  {
   "cell_type": "code",
   "execution_count": 11,
   "metadata": {
    "collapsed": false
   },
   "outputs": [
    {
     "name": "stdout",
     "output_type": "stream",
     "text": [
      "                            OLS Regression Results                            \n",
      "==============================================================================\n",
      "Dep. Variable:      HigherSocialClass   R-squared:                       0.300\n",
      "Model:                            OLS   Adj. R-squared:                  0.277\n",
      "Method:                 Least Squares   F-statistic:                     12.85\n",
      "Date:                Tue, 03 May 2016   Prob (F-statistic):            0.00118\n",
      "Time:                        11:58:15   Log-Likelihood:                -334.33\n",
      "No. Observations:                  32   AIC:                             672.7\n",
      "Df Residuals:                      30   BIC:                             675.6\n",
      "Df Model:                           1                                         \n",
      "Covariance Type:            nonrobust                                         \n",
      "==============================================================================\n",
      "                 coef    std err          t      P>|t|      [95.0% Conf. Int.]\n",
      "------------------------------------------------------------------------------\n",
      "Intercept   1.083e+04   2082.997      5.200      0.000      6578.417  1.51e+04\n",
      "Green        644.4868    179.755      3.585      0.001       277.378  1011.595\n",
      "==============================================================================\n",
      "Omnibus:                       33.348   Durbin-Watson:                   1.649\n",
      "Prob(Omnibus):                  0.000   Jarque-Bera (JB):               89.458\n",
      "Skew:                           2.268   Prob(JB):                     3.75e-20\n",
      "Kurtosis:                       9.820   Cond. No.                         15.9\n",
      "==============================================================================\n",
      "\n",
      "Warnings:\n",
      "[1] Standard Errors assume that the covariance matrix of the errors is correctly specified.\n"
     ]
    }
   ],
   "source": [
    "print(lm.summary())"
   ]
  },
  {
   "cell_type": "code",
   "execution_count": 12,
   "metadata": {
    "collapsed": false
   },
   "outputs": [
    {
     "name": "stdout",
     "output_type": "stream",
     "text": [
      "Intercept        1225.663954\n",
      "Green             203.107801\n",
      "HighEducation       2.237455\n",
      "dtype: float64\n"
     ]
    }
   ],
   "source": [
    "lm = sm.ols(formula=\"HigherSocialClass ~ Green + HighEducation\", data=df).fit()\n",
    "print(lm.params)"
   ]
  },
  {
   "cell_type": "code",
   "execution_count": 13,
   "metadata": {
    "collapsed": false
   },
   "outputs": [
    {
     "name": "stdout",
     "output_type": "stream",
     "text": [
      "                            OLS Regression Results                            \n",
      "==============================================================================\n",
      "Dep. Variable:      HigherSocialClass   R-squared:                       0.826\n",
      "Model:                            OLS   Adj. R-squared:                  0.814\n",
      "Method:                 Least Squares   F-statistic:                     68.74\n",
      "Date:                Tue, 03 May 2016   Prob (F-statistic):           9.89e-12\n",
      "Time:                        11:58:38   Log-Likelihood:                -312.08\n",
      "No. Observations:                  32   AIC:                             630.2\n",
      "Df Residuals:                      29   BIC:                             634.6\n",
      "Df Model:                           2                                         \n",
      "Covariance Type:            nonrobust                                         \n",
      "=================================================================================\n",
      "                    coef    std err          t      P>|t|      [95.0% Conf. Int.]\n",
      "---------------------------------------------------------------------------------\n",
      "Intercept      1225.6640   1473.488      0.832      0.412     -1787.957  4239.285\n",
      "Green           203.1078    102.680      1.978      0.057        -6.896   413.111\n",
      "HighEducation     2.2375      0.239      9.356      0.000         1.748     2.727\n",
      "==============================================================================\n",
      "Omnibus:                        3.194   Durbin-Watson:                   2.410\n",
      "Prob(Omnibus):                  0.203   Jarque-Bera (JB):                1.905\n",
      "Skew:                           0.541   Prob(JB):                        0.386\n",
      "Kurtosis:                       3.509   Cond. No.                     1.31e+04\n",
      "==============================================================================\n",
      "\n",
      "Warnings:\n",
      "[1] Standard Errors assume that the covariance matrix of the errors is correctly specified.\n",
      "[2] The condition number is large, 1.31e+04. This might indicate that there are\n",
      "strong multicollinearity or other numerical problems.\n"
     ]
    }
   ],
   "source": [
    "print(lm.summary())"
   ]
  },
  {
   "cell_type": "code",
   "execution_count": 14,
   "metadata": {
    "collapsed": false
   },
   "outputs": [
    {
     "name": "stdout",
     "output_type": "stream",
     "text": [
      "Intercept        1559.417383\n",
      "HighEducation       2.454780\n",
      "dtype: float64\n"
     ]
    }
   ],
   "source": [
    "lm = sm.ols(formula=\"HigherSocialClass ~ HighEducation\", data=df).fit()\n",
    "print(lm.params)"
   ]
  },
  {
   "cell_type": "code",
   "execution_count": 15,
   "metadata": {
    "collapsed": false
   },
   "outputs": [
    {
     "name": "stdout",
     "output_type": "stream",
     "text": [
      "                            OLS Regression Results                            \n",
      "==============================================================================\n",
      "Dep. Variable:      HigherSocialClass   R-squared:                       0.802\n",
      "Model:                            OLS   Adj. R-squared:                  0.796\n",
      "Method:                 Least Squares   F-statistic:                     121.7\n",
      "Date:                Tue, 03 May 2016   Prob (F-statistic):           4.41e-12\n",
      "Time:                        11:59:01   Log-Likelihood:                -314.10\n",
      "No. Observations:                  32   AIC:                             632.2\n",
      "Df Residuals:                      30   BIC:                             635.1\n",
      "Df Model:                           1                                         \n",
      "Covariance Type:            nonrobust                                         \n",
      "=================================================================================\n",
      "                    coef    std err          t      P>|t|      [95.0% Conf. Int.]\n",
      "---------------------------------------------------------------------------------\n",
      "Intercept      1559.4174   1533.212      1.017      0.317     -1571.818  4690.653\n",
      "HighEducation     2.4548      0.222     11.034      0.000         2.000     2.909\n",
      "==============================================================================\n",
      "Omnibus:                        0.047   Durbin-Watson:                   2.265\n",
      "Prob(Omnibus):                  0.977   Jarque-Bera (JB):                0.148\n",
      "Skew:                           0.079   Prob(JB):                        0.929\n",
      "Kurtosis:                       2.706   Cond. No.                     1.31e+04\n",
      "==============================================================================\n",
      "\n",
      "Warnings:\n",
      "[1] Standard Errors assume that the covariance matrix of the errors is correctly specified.\n",
      "[2] The condition number is large, 1.31e+04. This might indicate that there are\n",
      "strong multicollinearity or other numerical problems.\n"
     ]
    }
   ],
   "source": [
    "print(lm.summary())\n",
    "\n"
   ]
  },
  {
   "cell_type": "code",
   "execution_count": null,
   "metadata": {
    "collapsed": true
   },
   "outputs": [],
   "source": []
  }
 ],
 "metadata": {
  "kernelspec": {
   "display_name": "Python 3",
   "language": "python",
   "name": "python3"
  },
  "language_info": {
   "codemirror_mode": {
    "name": "ipython",
    "version": 3
   },
   "file_extension": ".py",
   "mimetype": "text/x-python",
   "name": "python",
   "nbconvert_exporter": "python",
   "pygments_lexer": "ipython3",
   "version": "3.5.1"
  }
 },
 "nbformat": 4,
 "nbformat_minor": 0
}
